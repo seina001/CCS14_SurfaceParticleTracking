{
 "cells": [
  {
   "cell_type": "code",
   "execution_count": 1,
   "metadata": {},
   "outputs": [],
   "source": [
    "#Import packages needed to run code\n",
    "import matplotlib.pyplot as plt #v3.1.3\n",
    "import os\n",
    "import math\n",
    "import matplotlib.cm as cm\n",
    "from matplotlib.pylab import *\n",
    "import numpy as np #v1.18.1\n",
    "import pandas as pd #v1.0.1\n",
    "import seaborn as sns #v0.10.0\n",
    "import cmocean #v2.0\n",
    "import netCDF4 as nc #v1.5.3\n",
    "from netCDF4 import Dataset as NetCDFFile\n",
    "import cartopy as cp #v0.16.0\n",
    "import cartopy.crs as ccrs \n",
    "from cartopy.mpl.gridliner import LONGITUDE_FORMATTER, LATITUDE_FORMATTER\n",
    "from cartopy.io import shapereader\n",
    "import scipy.stats as ss\n",
    "import scipy\n",
    "import gsw\n",
    "import matplotlib.patches as patches\n",
    "import requests\n",
    "import csv\n",
    "from inspect import cleandoc as dedent\n",
    "from mpl_toolkits.basemap import Basemap\n",
    "import pickle as pickle\n",
    "#matplotlib.use('Qt5Agg')\n",
    "#import bokeh.plotting, bokeh.models\n",
    "#bokeh.plotting.output_notebook()"
   ]
  },
  {
   "cell_type": "code",
   "execution_count": 11,
   "metadata": {},
   "outputs": [
    {
     "data": {
      "text/plain": [
       "<class 'netCDF4._netCDF4.Dataset'>\n",
       "root group (NETCDF4 data model, file format HDF5):\n",
       "    product_name: AQUA_MODIS.20140708.L3b.DAY.SST.nc\n",
       "    title: MODIS Level-3 Binned Data\n",
       "    instrument: MODIS\n",
       "    platform: Aqua\n",
       "    temporal_range: day\n",
       "    start_orbit_number: 64771\n",
       "    end_orbit_number: 64787\n",
       "    date_created: 2019-12-16T20:03:00.000Z\n",
       "    processing_version: R2019.0\n",
       "    history: l2bin par=AQUA_MODIS.20140708.L3b.DAY.SST.param\n",
       "    time_coverage_start: 2014-07-08T00:05:01.000Z\n",
       "    time_coverage_end: 2014-07-09T02:45:00.000Z\n",
       "    northernmost_latitude: 90.0\n",
       "    southernmost_latitude: -90.0\n",
       "    easternmost_longitude: 180.0\n",
       "    westernmost_longitude: -180.0\n",
       "    geospatial_lat_max: 90.0\n",
       "    geospatial_lat_min: -90.0\n",
       "    geospatial_lon_max: 180.0\n",
       "    geospatial_lon_min: -180.0\n",
       "    geospatial_lat_units: degrees_north\n",
       "    geospatial_lon_units: degrees_east\n",
       "    geospatial_lon_resolution: 0.041666666666666664\n",
       "    geospatial_lat_resolution: 0.041666666666666664\n",
       "    spatialResolution: 4.6 km\n",
       "    data_bins: 4643903\n",
       "    percent_data_bins: 19.543667\n",
       "    units: sst:degree_C\n",
       "    binning_scheme: Integerized Sinusoidal Grid\n",
       "    project: Ocean Biology Processing Group (NASA/GSFC/OBPG)\n",
       "    institution: NASA Goddard Space Flight Center, Ocean Ecology Laboratory, Ocean Biology Processing Group\n",
       "    standard_name_vocabulary: CF Standard Name Table v36\n",
       "    Conventions: CF-1.6 ACDD-1.3\n",
       "    naming_authority: gov.nasa.gsfc.sci.oceandata\n",
       "    id: AQUA_MODIS.20140708.L3b.DAY.SST.nc/L3/AQUA_MODIS.20140708.L3b.DAY.SST.nc\n",
       "    license: https://science.nasa.gov/earth-science/earth-science-data/data-information-policy/\n",
       "    creator_name: NASA/GSFC/OBPG\n",
       "    publisher_name: NASA/GSFC/OBPG\n",
       "    creator_email: data@oceancolor.gsfc.nasa.gov\n",
       "    publisher_email: data@oceancolor.gsfc.nasa.gov\n",
       "    creator_url: https://oceandata.sci.gsfc.nasa.gov\n",
       "    publisher_url: https://oceandata.sci.gsfc.nasa.gov\n",
       "    processing_level: L3 Binned\n",
       "    cdm_data_type: point\n",
       "    keywords_vocabulary: NASA Global Change Master Directory (GCMD) Science Keywords\n",
       "    keywords: Earth Science > Oceans > Ocean Optics > Sea Surface Temperature\n",
       "    dimensions(sizes): \n",
       "    variables(dimensions): \n",
       "    groups: level-3_binned_data, processing_control"
      ]
     },
     "execution_count": 11,
     "metadata": {},
     "output_type": "execute_result"
    }
   ],
   "source": [
    "file = './AQUA_MODIS.20140708.L3b.DAY.SST.nc'\n",
    "db = nc.Dataset(file)\n",
    "db"
   ]
  },
  {
   "cell_type": "code",
   "execution_count": 23,
   "metadata": {},
   "outputs": [
    {
     "data": {
      "text/plain": [
       "<class 'netCDF4._netCDF4.Group'>\n",
       "group /level-3_binned_data:\n",
       "    dimensions(sizes): binListDim(4643903), binDataDim(4643903), binIndexDim(4320), qualityDim(4643903)\n",
       "    variables(dimensions): {'names':['bin_num','nobs','nscenes','weights','time_rec'], 'formats':['<u4','<i2','<i2','<f4','<f4'], 'offsets':[0,4,6,8,12], 'itemsize':16, 'aligned':True} BinList(binListDim), {'names':['sum','sum_squared'], 'formats':['<f4','<f4'], 'offsets':[0,4], 'itemsize':8, 'aligned':True} sst(binDataDim), {'names':['start_num','begin','extent','max'], 'formats':['<u4','<u4','<u4','<u4'], 'offsets':[0,4,8,12], 'itemsize':16, 'aligned':True} BinIndex(binIndexDim), int8 qual_l3(qualityDim)\n",
       "    groups: "
      ]
     },
     "execution_count": 23,
     "metadata": {},
     "output_type": "execute_result"
    }
   ],
   "source": [
    "db.groups['level-3_binned_data']"
   ]
  },
  {
   "cell_type": "code",
   "execution_count": 30,
   "metadata": {},
   "outputs": [
    {
     "data": {
      "text/plain": [
       "{'BinList': <class 'netCDF4._netCDF4.Variable'>\n",
       " compound BinList(binListDim)\n",
       " compound data type: {'names':['bin_num','nobs','nscenes','weights','time_rec'], 'formats':['<u4','<i2','<i2','<f4','<f4'], 'offsets':[0,4,6,8,12], 'itemsize':16, 'aligned':True}\n",
       " path = /level-3_binned_data\n",
       " unlimited dimensions: binListDim\n",
       " current shape = (4643903,),\n",
       " 'sst': <class 'netCDF4._netCDF4.Variable'>\n",
       " compound sst(binDataDim)\n",
       " compound data type: {'names':['sum','sum_squared'], 'formats':['<f4','<f4'], 'offsets':[0,4], 'itemsize':8, 'aligned':True}\n",
       " path = /level-3_binned_data\n",
       " unlimited dimensions: binDataDim\n",
       " current shape = (4643903,),\n",
       " 'BinIndex': <class 'netCDF4._netCDF4.Variable'>\n",
       " compound BinIndex(binIndexDim)\n",
       " compound data type: {'names':['start_num','begin','extent','max'], 'formats':['<u4','<u4','<u4','<u4'], 'offsets':[0,4,8,12], 'itemsize':16, 'aligned':True}\n",
       " path = /level-3_binned_data\n",
       " unlimited dimensions: binIndexDim\n",
       " current shape = (4320,),\n",
       " 'qual_l3': <class 'netCDF4._netCDF4.Variable'>\n",
       " int8 qual_l3(qualityDim)\n",
       " path = /level-3_binned_data\n",
       " unlimited dimensions: qualityDim\n",
       " current shape = (4643903,)\n",
       " filling on, default _FillValue of -127 ignored}"
      ]
     },
     "execution_count": 30,
     "metadata": {},
     "output_type": "execute_result"
    }
   ],
   "source": [
    "db.groups['level-3_binned_data'].variables"
   ]
  },
  {
   "cell_type": "code",
   "execution_count": 37,
   "metadata": {},
   "outputs": [
    {
     "data": {
      "text/plain": [
       "<class 'netCDF4._netCDF4.Variable'>\n",
       "compound sst(binDataDim)\n",
       "compound data type: {'names':['sum','sum_squared'], 'formats':['<f4','<f4'], 'offsets':[0,4], 'itemsize':8, 'aligned':True}\n",
       "path = /level-3_binned_data\n",
       "unlimited dimensions: binDataDim\n",
       "current shape = (4643903,)"
      ]
     },
     "execution_count": 37,
     "metadata": {},
     "output_type": "execute_result"
    }
   ],
   "source": [
    "db.groups['level-3_binned_data'].variables['sst']"
   ]
  },
  {
   "cell_type": "code",
   "execution_count": 42,
   "metadata": {},
   "outputs": [
    {
     "data": {
      "text/plain": [
       "<class 'netCDF4._netCDF4.Dataset'>\n",
       "root group (NETCDF3_CLASSIC data model, file format NETCDF3):\n",
       "    Conventions: CF-1.6\n",
       "    title: Aquarius CAP 1x1 Deg Gridded Averaged Maps\n",
       "    history: DATA_SOURCE_VERSION 5.0.cap\n",
       "    institution: JPL\n",
       "    processing_level: 3\n",
       "    cdm_data_type: Grid\n",
       "    date_issued: 2018-07-03T11:27:24Z\n",
       "    date_created: 2018-07-03T11:27:24Z\n",
       "    time_coverage_start: 07-07-14\n",
       "    time_coverage_end: 07-13-14\n",
       "    geospatial_lat_max: 90.0\n",
       "    geospatial_lat_min: -90.0\n",
       "    geospatial_lon_max: 180.0\n",
       "    geospatial_lon_min: -180.0\n",
       "    geospatial_lat_resolution: 1.0\n",
       "    geospatial_lon_resolution: 1.0\n",
       "    geospatial_lat_units: degrees_north\n",
       "    geospatial_lon_units: degrees_east\n",
       "    platform: Aquarius/SAC-D\n",
       "    sensor: Aquarius\n",
       "    project: Aquarius\n",
       "    product_version: 5.0.cap\n",
       "    keywords_vocabulary: http://gcmd.gsfc.nasa.gov/Resources/valids/gcmd_parameters.html\n",
       "    keywords: SURFACE SALINITY, SALINITY, AQUARIUS, Jet Propulsion Laboratory, NASA, http://aquarius.nasa.gov/, AQUARIUS SAC-D, Aquarius Scatterometer, Aquarius Radiometer\n",
       "    summary: Version 5.0.cap Aquarius CAP Level 3 products contain mapped Aquarius sea surface salinity or wind speed data based on the Combined Active Passive (CAP) algorithm. CAP is a P.I. produced data set developed and provided by the JPL Climate Oceans and Solid Earth section.  (For further details see http://podaac.jpl.nasa.gov/dataset/AQUARIUS_L3_SSS_CAP_7DAY_V5 )\n",
       "    creator_name: Simon H. Yueh\n",
       "    creator_email: Simon.H.Yueh@jpl.nasa.gov\n",
       "    creator_url: http://science.jpl.nasa.gov/COSE/index.cfm\n",
       "    publisher_name: Simon H. Yueh\n",
       "    publisher_email: Simon.H.Yueh@jpl.nasa.gov\n",
       "    publisher_url: http://science.jpl.nasa.gov/COSE/index.cfm\n",
       "    contributor_name: Wenqing Tang, Alex Fore, Akiko Hayashi\n",
       "    contributor_role: Aquarius-CAP algorithm geophysical model functions, CAP algorithm operational setup and L2 processing, L3 algorithm implementation, processing and data staging \n",
       "    Data_Type: 1x1 Deg Gridded Bin Averaged Maps\n",
       "    VARIABLE_1: sss_cap(nlon,nlat)\n",
       "    First_Index: Longitude\n",
       "    Second_Index: Latitude\n",
       "    Map_Time_Range: 07/07/14-07/13/14\n",
       "    Search_Radius_KM:       111.000\n",
       "    Half_Power_Point_KM:       75.0000\n",
       "    Binning_Method: Gaussian\n",
       "    Land_Fraction:     0.0100000\n",
       "    Ice_Fraction:   0.000500000\n",
       "    Minimum_Bin_Pts:       6.00000\n",
       "    VARIABLE_2: ice_frac(nlon,nlat)\n",
       "    dimensions(sizes): lon(360), lat(180)\n",
       "    variables(dimensions): float32 lon(lon), float32 lat(lat), float32 sss_cap(lat,lon), float32 ice_frac(lat,lon), |S1 Equirectangular()\n",
       "    groups: "
      ]
     },
     "execution_count": 42,
     "metadata": {},
     "output_type": "execute_result"
    }
   ],
   "source": [
    "file = './sss20140707.v5.0cap.nc'\n",
    "db = nc.Dataset(file)\n",
    "db"
   ]
  },
  {
   "cell_type": "code",
   "execution_count": 45,
   "metadata": {},
   "outputs": [
    {
     "name": "stderr",
     "output_type": "stream",
     "text": [
      "<ipython-input-45-6abdde1638db>:1: DeprecationWarning: tostring() is deprecated. Use tobytes() instead.\n",
      "  sss = db.VARIABLE_1\n"
     ]
    }
   ],
   "source": [
    "sss = db.VARIABLE_1"
   ]
  },
  {
   "cell_type": "code",
   "execution_count": null,
   "metadata": {},
   "outputs": [],
   "source": []
  }
 ],
 "metadata": {
  "kernelspec": {
   "display_name": "Python 3",
   "language": "python",
   "name": "python3"
  },
  "language_info": {
   "codemirror_mode": {
    "name": "ipython",
    "version": 3
   },
   "file_extension": ".py",
   "mimetype": "text/x-python",
   "name": "python",
   "nbconvert_exporter": "python",
   "pygments_lexer": "ipython3",
   "version": "3.8.5"
  }
 },
 "nbformat": 4,
 "nbformat_minor": 4
}
